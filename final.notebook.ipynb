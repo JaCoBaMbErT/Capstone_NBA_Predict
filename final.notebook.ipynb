{
 "cells": [
  {
   "cell_type": "code",
   "execution_count": 4,
   "id": "b3275889-3e08-4a97-8495-c3da19c4391b",
   "metadata": {},
   "outputs": [
    {
     "name": "stdout",
     "output_type": "stream",
     "text": [
      "Model Accuracy: 0.6572061908720263\n",
      "Fitting 5 folds for each of 50 candidates, totalling 250 fits\n",
      "Best parameters found:  {'max_depth': 9, 'max_features': 'log2', 'min_samples_leaf': 8, 'min_samples_split': 2, 'n_estimators': 366}\n",
      "Model Accuracy: 0.6588687012627162\n",
      "Accuracy for each fold: [0.65627629 0.66145473 0.65868382 0.65957447 0.65903018]\n",
      "Mean cross-validation accuracy: 0.659003896325728\n",
      "Standard deviation of cross-validation accuracy: 0.0016658401856852127\n"
     ]
    }
   ],
   "source": [
    "import pandas as pd\n",
    "from sklearn.model_selection import train_test_split, cross_val_score, GridSearchCV\n",
    "from sklearn.preprocessing import LabelEncoder\n",
    "from sklearn.ensemble import RandomForestClassifier, ExtraTreesClassifier\n",
    "from sklearn.metrics import accuracy_score\n",
    "from scipy.stats import randint\n",
    "import numpy as np\n",
    "\n",
    "# Function to load and preprocess data\n",
    "def load_and_preprocess_data(filepath):\n",
    "    df = pd.read_csv(r\"C:\\Users\\jacob\\Desktop\\nbaallelo\\Capstone_NBA_Predict\\nbaallelo.csv\")\n",
    "    encoder = LabelEncoder()\n",
    "    categorical_features = ['game_location', 'game_result']\n",
    "    for feature in categorical_features:\n",
    "        df[feature] = encoder.fit_transform(df[feature])\n",
    "    df['avg_pts'] = df.groupby('team_id')['pts'].transform(lambda x: x.expanding().mean())\n",
    "    return df\n",
    "\n",
    "# Function for feature selection and data split\n",
    "def prepare_data(df, feature_columns, target_column, test_size=0.2, random_state=42):\n",
    "    X = df[feature_columns]\n",
    "    y = df[target_column]\n",
    "    return train_test_split(X, y, test_size=test_size, random_state=random_state)\n",
    "\n",
    "# Function to train and evaluate model\n",
    "def train_and_evaluate_model(X_train, X_test, y_train, y_test, model):\n",
    "    model.fit(X_train, y_train)\n",
    "    predictions = model.predict(X_test)\n",
    "    accuracy = accuracy_score(y_test, predictions)\n",
    "    print(f\"Model Accuracy: {accuracy}\")\n",
    "    return model\n",
    "\n",
    "# Function for parameter optimization\n",
    "def optimize_parameters(X, y, model, param_dist, n_iter=50, cv=5, random_state=42):\n",
    "    random_search = RandomizedSearchCV(model, param_distributions=param_dist, n_iter=n_iter, cv=cv, scoring='accuracy', random_state=random_state, n_jobs=-1, verbose=2)\n",
    "    random_search.fit(X, y)\n",
    "    print(\"Best parameters found: \", random_search.best_params_)\n",
    "    return random_search.best_estimator_\n",
    "\n",
    "# Main workflow\n",
    "if __name__ == \"__main__\":\n",
    "    filepath = r\"C:\\Users\\jacob\\Desktop\\nbaallelo\\Capstone_NBA_Predict\\nbaallelo.csv\"\n",
    "    df = load_and_preprocess_data(filepath)\n",
    "    feature_columns = ['elo_i', 'opp_elo_i', 'game_location', 'avg_pts', 'seasongame']\n",
    "    target_column = 'game_result'\n",
    "    X_train, X_test, y_train, y_test = prepare_data(df, feature_columns, target_column)\n",
    "\n",
    "    # Train and evaluate RandomForestClassifier\n",
    "    rf_model = RandomForestClassifier(n_estimators=100, random_state=42)\n",
    "    train_and_evaluate_model(X_train, X_test, y_train, y_test, rf_model)\n",
    "\n",
    "    # Parameter optimization for RandomForestClassifier\n",
    "    param_dist_rf = {\n",
    "        'n_estimators': randint(100, 500),\n",
    "        'max_depth': randint(3, 20),\n",
    "        'min_samples_split': randint(2, 20),\n",
    "        'min_samples_leaf': randint(1, 20),\n",
    "        'max_features': ['sqrt', 'log2', None]\n",
    "    }\n",
    "    optimized_rf_model = optimize_parameters(X_train, y_train, rf_model, param_dist_rf)\n",
    "\n",
    "    # Train and evaluate ExtraTreesClassifier\n",
    "    et_model = ExtraTreesClassifier(n_estimators=100, random_state=42)\n",
    "    train_and_evaluate_model(X_train, X_test, y_train, y_test, et_model)\n",
    "\n",
    "    # Cross-validation for ExtraTreesClassifier\n",
    "    scores = cross_val_score(et_model, X_train, y_train, cv=5, scoring='accuracy', n_jobs=-1)\n",
    "    print(f\"Accuracy for each fold: {scores}\")\n",
    "    print(f\"Mean cross-validation accuracy: {np.mean(scores)}\")\n",
    "    print(f\"Standard deviation of cross-validation accuracy: {np.std(scores)}\")\n"
   ]
  },
  {
   "cell_type": "code",
   "execution_count": null,
   "id": "48e3ac8f-bf53-46a0-8695-69cd42d3a307",
   "metadata": {},
   "outputs": [],
   "source": []
  },
  {
   "cell_type": "code",
   "execution_count": null,
   "id": "90385f79-026a-40ca-aaf7-83a494af32f5",
   "metadata": {},
   "outputs": [],
   "source": []
  },
  {
   "cell_type": "code",
   "execution_count": null,
   "id": "09620ef9-0519-438a-b993-fadbc457c660",
   "metadata": {},
   "outputs": [],
   "source": []
  },
  {
   "cell_type": "code",
   "execution_count": 5,
   "id": "8ebb0460-fed6-4a12-813e-470275197a42",
   "metadata": {},
   "outputs": [
    {
     "name": "stdout",
     "output_type": "stream",
     "text": [
      "RandomForestClassifier Accuracy: 0.6541186715750307\n",
      "ExtraTreesClassifier Accuracy: 0.6500019791790366\n"
     ]
    }
   ],
   "source": [
    "import pandas as pd\n",
    "from sklearn.model_selection import train_test_split, RandomizedSearchCV\n",
    "from sklearn.preprocessing import LabelEncoder\n",
    "from sklearn.ensemble import RandomForestClassifier, ExtraTreesClassifier\n",
    "from sklearn.metrics import accuracy_score\n",
    "from scipy.stats import randint\n",
    "import numpy as np\n",
    "\n",
    "# Function to load and preprocess data with additional feature engineering\n",
    "def load_and_preprocess_data(filepath):\n",
    "    df = pd.read_csv(filepath)\n",
    "    encoder = LabelEncoder()\n",
    "    \n",
    "    # Encoding categorical features\n",
    "    df['game_result'] = encoder.fit_transform(df['game_result'])\n",
    "    df['game_location'] = encoder.fit_transform(df['game_location'])\n",
    "    \n",
    "    # Feature Engineering (Avoiding future data)\n",
    "    df['elo_diff'] = df['elo_i'] - df['opp_elo_i']\n",
    "    df['date_game'] = pd.to_datetime(df['date_game'])\n",
    "    df.sort_values('date_game', inplace=True)\n",
    "    \n",
    "    # Creating average points feature without lookahead bias\n",
    "    df['avg_pts'] = df.groupby('team_id')['pts'].transform(lambda x: x.expanding().mean())\n",
    "    \n",
    "    return df\n",
    "\n",
    "# Temporal Train-Test Split\n",
    "def temporal_train_test_split(df, test_size=0.2):\n",
    "    split_idx = int(len(df) * (1 - test_size))\n",
    "    train_df = df.iloc[:split_idx]\n",
    "    test_df = df.iloc[split_idx:]\n",
    "    \n",
    "    return train_df, test_df\n",
    "\n",
    "# Main Workflow\n",
    "if __name__ == \"__main__\":\n",
    "    filepath = r\"C:\\Users\\jacob\\Desktop\\nbaallelo\\Capstone_NBA_Predict\\nbaallelo.csv\"\n",
    "    df = load_and_preprocess_data(filepath)\n",
    "    \n",
    "    # Temporal train-test split to avoid future data leakage\n",
    "    train_df, test_df = temporal_train_test_split(df)\n",
    "    \n",
    "    # Features and target variable\n",
    "    feature_columns = ['elo_i', 'opp_elo_i', 'game_location', 'elo_diff', 'avg_pts','seasongame','is_playoffs']  # Revised feature list\n",
    "    target_column = 'game_result'\n",
    "    \n",
    "    X_train = train_df[feature_columns]\n",
    "    X_test = test_df[feature_columns]\n",
    "    y_train = train_df[target_column]\n",
    "    y_test = test_df[target_column]\n",
    "    \n",
    "    # Train and evaluate RandomForestClassifier\n",
    "    rf_model = RandomForestClassifier(n_estimators=100, random_state=42)\n",
    "    rf_model.fit(X_train, y_train)\n",
    "    rf_predictions = rf_model.predict(X_test)\n",
    "    rf_accuracy = accuracy_score(y_test, rf_predictions)\n",
    "    print(f\"RandomForestClassifier Accuracy: {rf_accuracy}\")\n",
    "    \n",
    "    # ExtraTreesClassifier (Example)\n",
    "    et_model = ExtraTreesClassifier(n_estimators=100, random_state=42)\n",
    "    et_model.fit(X_train, y_train)\n",
    "    et_predictions = et_model.predict(X_test)\n",
    "    et_accuracy = accuracy_score(y_test, et_predictions)\n",
    "    print(f\"ExtraTreesClassifier Accuracy: {et_accuracy}\")\n",
    "\n"
   ]
  },
  {
   "cell_type": "code",
   "execution_count": 6,
   "id": "e58f9bfc-4542-4977-93ae-2e63eb3f0b62",
   "metadata": {},
   "outputs": [
    {
     "name": "stdout",
     "output_type": "stream",
     "text": [
      "[0]\tTest-logloss:0.64694\n",
      "[1]\tTest-logloss:0.62371\n",
      "[2]\tTest-logloss:0.61224\n",
      "[3]\tTest-logloss:0.60601\n",
      "[4]\tTest-logloss:0.60292\n",
      "[5]\tTest-logloss:0.60142\n",
      "[6]\tTest-logloss:0.60073\n",
      "[7]\tTest-logloss:0.60068\n",
      "[8]\tTest-logloss:0.60055\n",
      "[9]\tTest-logloss:0.60087\n",
      "[10]\tTest-logloss:0.60104\n",
      "[11]\tTest-logloss:0.60095\n",
      "[12]\tTest-logloss:0.60098\n",
      "[13]\tTest-logloss:0.60095\n",
      "[14]\tTest-logloss:0.60117\n",
      "[15]\tTest-logloss:0.60131\n",
      "[16]\tTest-logloss:0.60132\n",
      "[17]\tTest-logloss:0.60131\n",
      "XGBoost Model Accuracy: 0.6709812769663144\n"
     ]
    }
   ],
   "source": [
    "import xgboost as xgb\n",
    "\n",
    "# Function to train and evaluate an XGBoost model\n",
    "def train_and_evaluate_xgboost(X_train, X_test, y_train, y_test):\n",
    "    # Convert the datasets into DMatrix objects, which is optimized for XGBoost\n",
    "    dtrain = xgb.DMatrix(X_train, label=y_train)\n",
    "    dtest = xgb.DMatrix(X_test, label=y_test)\n",
    "    \n",
    "    # Define the XGBoost model parameters\n",
    "    params = {\n",
    "        'max_depth': 6,  # Maximum depth of a tree\n",
    "        'eta': 0.3,  # The learning rate\n",
    "        'objective': 'binary:logistic',  # Binary classification\n",
    "        'eval_metric': 'logloss',  # Evaluation metric\n",
    "    }\n",
    "    num_boost_round = 100  # Number of boosting rounds\n",
    "    \n",
    "    # Train the model\n",
    "    bst = xgb.train(params, dtrain, num_boost_round, evals=[(dtest, \"Test\")], early_stopping_rounds=10)\n",
    "    \n",
    "    # Predict and evaluate the model\n",
    "    y_pred_proba = bst.predict(dtest)\n",
    "    y_pred = [1 if prob > 0.5 else 0 for prob in y_pred_proba]\n",
    "    accuracy = accuracy_score(y_test, y_pred)\n",
    "    print(f\"XGBoost Model Accuracy: {accuracy}\")\n",
    "\n",
    "# Main Workflow Continuation\n",
    "if __name__ == \"__main__\":\n",
    "   \n",
    "    \n",
    "    # Temporal train-test split to avoid future data leakage\n",
    "    train_df, test_df = temporal_train_test_split(df)\n",
    "    \n",
    "    # Select features and target\n",
    "    feature_columns = ['elo_i', 'opp_elo_i', 'game_location', 'elo_diff', 'avg_pts','seasongame','is_playoffs']\n",
    "    target_column = 'game_result'\n",
    "    \n",
    "    X_train = train_df[feature_columns]\n",
    "    X_test = test_df[feature_columns]\n",
    "    y_train = train_df[target_column]\n",
    "    y_test = test_df[target_column]\n",
    "    \n",
    "    # Train and evaluate XGBoost model\n",
    "    train_and_evaluate_xgboost(X_train, X_test, y_train, y_test)\n"
   ]
  },
  {
   "cell_type": "code",
   "execution_count": 7,
   "id": "d77f76df-af07-45b9-a60f-d787358085d8",
   "metadata": {},
   "outputs": [
    {
     "name": "stdout",
     "output_type": "stream",
     "text": [
      "Fitting 3 folds for each of 50 candidates, totalling 150 fits\n",
      "Improved XGBoost Model Accuracy: 0.668408344218818\n"
     ]
    }
   ],
   "source": [
    "from sklearn.model_selection import RandomizedSearchCV\n",
    "import xgboost as xgb\n",
    "\n",
    "# Define the parameter grid to search\n",
    "param_grid = {\n",
    "    'max_depth': [3, 4, 5, 6, 7, 8],\n",
    "    'min_child_weight': [1, 2, 3, 4],\n",
    "    'eta': [0.3, 0.2, 0.1, 0.05, 0.01],\n",
    "    'subsample': [0.6, 0.8, 1.0],\n",
    "    'colsample_bytree': [0.6, 0.8, 1.0],\n",
    "}\n",
    "\n",
    "# Initialize the XGBClassifier\n",
    "xgb_model = xgb.XGBClassifier(objective='binary:logistic', eval_metric='logloss', use_label_encoder=False)\n",
    "\n",
    "# Set up RandomizedSearchCV\n",
    "random_search = RandomizedSearchCV(xgb_model, param_distributions=param_grid, n_iter=50, scoring='accuracy', cv=3, verbose=2, n_jobs=-1, random_state=42)\n",
    "\n",
    "# Fit RandomizedSearchCV\n",
    "random_search.fit(X_train, y_train)\n",
    "\n",
    "# Best model\n",
    "best_xgb_model = random_search.best_estimator_\n",
    "\n",
    "# Predict and evaluate\n",
    "y_pred = best_xgb_model.predict(X_test)\n",
    "accuracy = accuracy_score(y_test, y_pred)\n",
    "print(f\"Improved XGBoost Model Accuracy: {accuracy}\")\n"
   ]
  },
  {
   "cell_type": "code",
   "execution_count": 8,
   "id": "6cc0c3be-e6fa-4d77-a2f4-6ba6b93b6248",
   "metadata": {},
   "outputs": [],
   "source": [
    "from sklearn.model_selection import train_test_split\n",
    "\n",
    "# Assuming df is your DataFrame and you've already processed it as shown before\n",
    "X = df[feature_columns]\n",
    "y = df[target_column]\n",
    "\n",
    "# Split data into training and remaining dataset first\n",
    "X_train, X_remaining, y_train, y_remaining = train_test_split(X, y, test_size=0.3, random_state=42)\n",
    "\n",
    "# Split the remaining data into validation and test sets\n",
    "X_validation, X_test, y_validation, y_test = train_test_split(X_remaining, y_remaining, test_size=0.5, random_state=42)\n"
   ]
  },
  {
   "cell_type": "code",
   "execution_count": 9,
   "id": "8ec7befa-ad5f-476a-94c2-403c304f9410",
   "metadata": {},
   "outputs": [
    {
     "name": "stdout",
     "output_type": "stream",
     "text": [
      "[0]\tValidation-logloss:0.64671\n",
      "[1]\tValidation-logloss:0.62301\n",
      "[2]\tValidation-logloss:0.61029\n",
      "[3]\tValidation-logloss:0.60343\n",
      "[4]\tValidation-logloss:0.59947\n",
      "[5]\tValidation-logloss:0.59735\n",
      "[6]\tValidation-logloss:0.59641\n",
      "[7]\tValidation-logloss:0.59609\n",
      "[8]\tValidation-logloss:0.59586\n",
      "[9]\tValidation-logloss:0.59545\n",
      "[10]\tValidation-logloss:0.59550\n",
      "[11]\tValidation-logloss:0.59540\n",
      "[12]\tValidation-logloss:0.59552\n",
      "[13]\tValidation-logloss:0.59566\n",
      "[14]\tValidation-logloss:0.59561\n",
      "[15]\tValidation-logloss:0.59560\n",
      "[16]\tValidation-logloss:0.59568\n",
      "[17]\tValidation-logloss:0.59580\n",
      "[18]\tValidation-logloss:0.59575\n",
      "[19]\tValidation-logloss:0.59593\n",
      "[20]\tValidation-logloss:0.59606\n",
      "[21]\tValidation-logloss:0.59614\n",
      "Training Accuracy: 0.6947262466212013\n",
      "Validation Accuracy: 0.6774159497545785\n"
     ]
    }
   ],
   "source": [
    "import xgboost as xgb\n",
    "from sklearn.metrics import accuracy_score\n",
    "\n",
    "# Convert the training and validation sets into DMatrix objects\n",
    "dtrain = xgb.DMatrix(X_train, label=y_train)\n",
    "dvalidation = xgb.DMatrix(X_validation, label=y_validation)\n",
    "\n",
    "# Define XGBoost parameters\n",
    "params = {\n",
    "    'max_depth': 6,\n",
    "    'eta': 0.3,\n",
    "    'objective': 'binary:logistic',\n",
    "    'eval_metric': 'logloss',\n",
    "}\n",
    "num_boost_round = 100\n",
    "\n",
    "# Train the model with early stopping\n",
    "bst = xgb.train(params, dtrain, num_boost_round, evals=[(dvalidation, \"Validation\")], early_stopping_rounds=10)\n",
    "\n",
    "# Predict on training and validation sets\n",
    "y_pred_train = bst.predict(dtrain)\n",
    "y_pred_train = [1 if prob > 0.5 else 0 for prob in y_pred_train]\n",
    "y_pred_validation = bst.predict(dvalidation)\n",
    "y_pred_validation = [1 if prob > 0.5 else 0 for prob in y_pred_validation]\n",
    "\n",
    "# Calculate and print accuracy for training and validation sets\n",
    "accuracy_train = accuracy_score(y_train, y_pred_train)\n",
    "accuracy_validation = accuracy_score(y_validation, y_pred_validation)\n",
    "print(f\"Training Accuracy: {accuracy_train}\")\n",
    "print(f\"Validation Accuracy: {accuracy_validation}\")\n"
   ]
  },
  {
   "cell_type": "code",
   "execution_count": 10,
   "id": "ab5d8e51-6d89-4311-9689-24b18dcb2f64",
   "metadata": {},
   "outputs": [
    {
     "name": "stdout",
     "output_type": "stream",
     "text": [
      "Fitting 5 folds for each of 100 candidates, totalling 500 fits\n",
      "Best parameters found:  {'subsample': 0.8, 'min_child_weight': 5, 'max_depth': 3, 'learning_rate': 0.01, 'gamma': 1.5, 'colsample_bytree': 1.0}\n",
      "XGBoost Model Accuracy: 0.668408344218818\n",
      "RandomForestClassifier Accuracy: 0.6503978149863436\n",
      "ExtraTreeClassifier Accuracy: 0.6382852392827455\n"
     ]
    }
   ],
   "source": [
    "import pandas as pd\n",
    "import numpy as np\n",
    "import xgboost as xgb\n",
    "from sklearn.model_selection import train_test_split, RandomizedSearchCV, cross_val_score\n",
    "from sklearn.preprocessing import LabelEncoder\n",
    "from sklearn.ensemble import RandomForestClassifier, ExtraTreesClassifier\n",
    "from sklearn.metrics import accuracy_score\n",
    "from scipy.stats import randint\n",
    "\n",
    "# Function to load and preprocess data with additional feature engineering\n",
    "def load_and_preprocess_data(filepath):\n",
    "    df = pd.read_csv(filepath)\n",
    "    encoder = LabelEncoder()\n",
    "    \n",
    "    # Encoding categorical features\n",
    "    df['game_result'] = encoder.fit_transform(df['game_result'])\n",
    "    df['game_location'] = encoder.fit_transform(df['game_location'])\n",
    "    \n",
    "    # Feature Engineering\n",
    "    df['elo_diff'] = df['elo_i'] - df['opp_elo_i']\n",
    "    df['date_game'] = pd.to_datetime(df['date_game'])\n",
    "    df.sort_values('date_game', inplace=True)\n",
    "    \n",
    "    # Additional features\n",
    "    df['elo_i_squared'] = df['elo_i'] ** 2\n",
    "    df['elo_interaction'] = df['elo_i'] * df['opp_elo_i']\n",
    "    \n",
    "    # Creating average points feature \n",
    "    df['avg_pts'] = df.groupby('team_id')['pts'].transform(lambda x: x.expanding().mean())\n",
    "    \n",
    "    return df\n",
    "\n",
    "# Temporal Train-Test Split\n",
    "def temporal_train_test_split(df, test_size=0.2):\n",
    "    split_idx = int(len(df) * (1 - test_size))\n",
    "    train_df = df.iloc[:split_idx]\n",
    "    test_df = df.iloc[split_idx:]\n",
    "    \n",
    "    return train_df, test_df\n",
    "\n",
    "# Hyperparameter Tuning for XGBoost\n",
    "def tune_xgboost(X_train, y_train):\n",
    "    param_grid = {\n",
    "        'max_depth': [3, 4, 5, 6, 7, 10],\n",
    "        'min_child_weight': [1, 2, 5, 10],\n",
    "        'learning_rate': [0.3, 0.1, 0.05, 0.01],\n",
    "        'gamma': [0, 0.1, 0.5, 1, 1.5, 2],\n",
    "        'subsample': [0.6, 0.8, 1.0],\n",
    "        'colsample_bytree': [0.6, 0.8, 1.0],\n",
    "    }\n",
    "    xgb_clf = xgb.XGBClassifier(objective='binary:logistic', eval_metric='logloss', use_label_encoder=False, random_state=42)\n",
    "    random_search = RandomizedSearchCV(xgb_clf, param_distributions=param_grid, n_iter=100, scoring='accuracy', cv=5, verbose=2, n_jobs=-1, random_state=42)\n",
    "    random_search.fit(X_train, y_train)\n",
    "    \n",
    "    print(\"Best parameters found: \", random_search.best_params_)\n",
    "    return random_search.best_estimator_\n",
    "\n",
    "# Main Workflow\n",
    "if __name__ == \"__main__\":\n",
    "    filepath = r\"C:\\Users\\jacob\\Desktop\\nbaallelo\\Capstone_NBA_Predict\\nbaallelo.csv\"\n",
    "    df = load_and_preprocess_data(filepath)\n",
    "    \n",
    "    # Temporal train-test split to avoid future data leakage\n",
    "    train_df, test_df = temporal_train_test_split(df)\n",
    "    \n",
    "    # Features and target variable\n",
    "    feature_columns = ['elo_i', 'opp_elo_i', 'game_location', 'elo_diff', 'avg_pts', 'elo_i_squared', 'elo_interaction', 'seasongame', 'is_playoffs']  # Updated feature list\n",
    "    target_column = 'game_result'\n",
    "    \n",
    "    X_train = train_df[feature_columns]\n",
    "    X_test = test_df[feature_columns]\n",
    "    y_train = train_df[target_column]\n",
    "    y_test = test_df[target_column]\n",
    "    \n",
    "    # Tune and evaluate XGBoost\n",
    "    xgb_model = tune_xgboost(X_train, y_train)\n",
    "    xgb_predictions = xgb_model.predict(X_test)\n",
    "    xgb_accuracy = accuracy_score(y_test, xgb_predictions)\n",
    "    print(f\"XGBoost Model Accuracy: {xgb_accuracy}\")\n",
    "\n",
    "    # Existing RandomForest and ExtraTrees evaluation remains unchanged\n",
    "    rf_model = RandomForestClassifier(n_estimators=100, random_state=42)\n",
    "    rf_model.fit(X_train, y_train)\n",
    "    rf_predictions = rf_model.predict(X_test)\n",
    "    rf_accuracy = accuracy_score(y_test, rf_predictions)\n",
    "    print(f\"RandomForestClassifier Accuracy: {rf_accuracy}\")\n",
    "    \n",
    "    et_model = ExtraTreesClassifier(n_estimators=100, random_state=42)\n",
    "    et_model.fit(X_train, y_train)\n",
    "    et_predictions = et_model.predict(X_test)\n",
    "    et_accuracy = accuracy_score(y_test, et_predictions)\n",
    "    print(f\"ExtraTreeClassifier Accuracy: {et_accuracy}\")\n"
   ]
  },
  {
   "cell_type": "code",
   "execution_count": 11,
   "id": "edbfaa4c-8984-48e7-a58c-e2f3196e42b8",
   "metadata": {},
   "outputs": [
    {
     "name": "stdout",
     "output_type": "stream",
     "text": [
      "Accuracy with max_depth=3, num_boost_round=50: 0.668408344218818\n",
      "Accuracy with max_depth=3, num_boost_round=100: 0.668408344218818\n",
      "Accuracy with max_depth=3, num_boost_round=200: 0.668408344218818\n",
      "Accuracy with max_depth=6, num_boost_round=50: 0.6734354589716186\n",
      "Accuracy with max_depth=6, num_boost_round=100: 0.6743062977476942\n",
      "Accuracy with max_depth=6, num_boost_round=200: 0.674900051458655\n",
      "Accuracy with max_depth=9, num_boost_round=50: 0.6733167082294265\n",
      "Accuracy with max_depth=9, num_boost_round=100: 0.6735542097138107\n",
      "Accuracy with max_depth=9, num_boost_round=200: 0.6731187903257728\n"
     ]
    }
   ],
   "source": [
    "import xgboost as xgb\n",
    "from sklearn.metrics import accuracy_score\n",
    "\n",
    "# Assuming X_train, X_test, y_train, y_test are already defined and preprocessed\n",
    "\n",
    "# Convert the datasets into DMatrix objects\n",
    "dtrain = xgb.DMatrix(X_train, label=y_train)\n",
    "dtest = xgb.DMatrix(X_test, label=y_test)\n",
    "\n",
    "# function to train and evaluate the XGBoost model with varying complexity\n",
    "def evaluate_xgboost_complexity(max_depth, num_boost_round):\n",
    "    params = {\n",
    "        'objective': 'binary:logistic',\n",
    "        'eval_metric': 'logloss',\n",
    "        'max_depth': max_depth,\n",
    "        'learning_rate': 0.01,  # Keeping learning rate constant for this experiment\n",
    "        'subsample': 0.8,\n",
    "        'colsample_bytree': 1.0,\n",
    "        'min_child_weight': 5,\n",
    "        'gamma': 1.5\n",
    "    }\n",
    "    \n",
    "    # Train the model\n",
    "    bst = xgb.train(params, dtrain, num_boost_round, evals=[(dtest, \"Test\")], early_stopping_rounds=10, verbose_eval=False)\n",
    "    \n",
    "    # Predict on test set\n",
    "    y_pred_proba = bst.predict(dtest)\n",
    "    y_pred = [1 if prob > 0.5 else 0 for prob in y_pred_proba]\n",
    "    \n",
    "    # Calculate and print accuracy\n",
    "    accuracy = accuracy_score(y_test, y_pred)\n",
    "    print(f\"Accuracy with max_depth={max_depth}, num_boost_round={num_boost_round}: {accuracy}\")\n",
    "\n",
    "# Experiment with different values of max_depth and num_boost_round\n",
    "for max_depth in [3, 6, 9]:\n",
    "    for num_boost_round in [50, 100, 200]:\n",
    "        evaluate_xgboost_complexity(max_depth, num_boost_round)\n"
   ]
  },
  {
   "cell_type": "code",
   "execution_count": 12,
   "id": "a06c7e91-d341-47be-afed-6470b1d7243b",
   "metadata": {},
   "outputs": [
    {
     "name": "stdout",
     "output_type": "stream",
     "text": [
      "Fitting 5 folds for each of 243 candidates, totalling 1215 fits\n",
      "Best parameters found:  {'gamma': 1.5, 'learning_rate': 0.01, 'max_depth': 6, 'n_estimators': 200, 'reg_alpha': 1, 'reg_lambda': 10}\n",
      "Best accuracy found:  0.682239787853191\n"
     ]
    }
   ],
   "source": [
    "from sklearn.model_selection import GridSearchCV\n",
    "\n",
    "# Define a new parameter grid focused on learning_rate, gamma, and regularization terms\n",
    "param_grid_fine_tuning = {\n",
    "    'max_depth': [6],  # Focused around the best depth found\n",
    "    'n_estimators': [100, 150, 200],  # Exploring num_boost_round in 100-200 range\n",
    "    'learning_rate': [0.01, 0.05, 0.1],  # Adjusting learning rate\n",
    "    'gamma': [0.5, 1, 1.5],  # Adjusting gamma for regularization\n",
    "    'reg_lambda': [1, 10, 100],  # L2 regularization term\n",
    "    'reg_alpha': [0, 0.1, 1]  # L1 regularization term\n",
    "}\n",
    "\n",
    "# Initialize the XGBoost classifier\n",
    "xgb_clf_fine_tune = xgb.XGBClassifier(objective='binary:logistic', eval_metric='logloss', use_label_encoder=False, random_state=42)\n",
    "\n",
    "# Set up GridSearchCV\n",
    "grid_search = GridSearchCV(xgb_clf_fine_tune, param_grid=param_grid_fine_tuning, scoring='accuracy', cv=5, verbose=2, n_jobs=-1)\n",
    "\n",
    "# Fit GridSearchCV to the training data\n",
    "grid_search.fit(X_train, y_train)\n",
    "\n",
    "# Print the best parameters and best score\n",
    "print(\"Best parameters found: \", grid_search.best_params_)\n",
    "print(\"Best accuracy found: \", grid_search.best_score_)\n"
   ]
  },
  {
   "cell_type": "code",
   "execution_count": 13,
   "id": "e8dc8348-f50c-4fa3-8b4d-6bb12525d6a2",
   "metadata": {},
   "outputs": [
    {
     "name": "stdout",
     "output_type": "stream",
     "text": [
      "CV Scores: [0.66943744 0.6805047  0.69079664 0.70148441 0.66897575]\n",
      "CV Mean: 0.682239787853191, CV Std: 0.012541296619220797\n"
     ]
    }
   ],
   "source": [
    "# Best model from GridSearchCV\n",
    "best_model = grid_search.best_estimator_\n",
    "\n",
    "# Perform cross-validation using the best model\n",
    "cv_scores = cross_val_score(best_model, X_train, y_train, cv=5, scoring='accuracy')\n",
    "\n",
    "# Print cross-validation results\n",
    "print(f\"CV Scores: {cv_scores}\")\n",
    "print(f\"CV Mean: {cv_scores.mean()}, CV Std: {cv_scores.std()}\")\n"
   ]
  },
  {
   "cell_type": "code",
   "execution_count": 14,
   "id": "5d790de5-dac0-4e82-9a7e-37dde666e760",
   "metadata": {},
   "outputs": [],
   "source": [
    "#best_model is your trained XGBoost model\n",
    "#X_test, y_test are your features and labels for the test set\n",
    "\n",
    "# Make predictions\n",
    "y_pred = best_model.predict(X_test)\n",
    "\n",
    "# Convert predictions to a DataFrame for easier analysis\n",
    "predictions_df = pd.DataFrame({'Actual': y_test, 'Predicted': y_pred})\n",
    "\n",
    "# Add a column to indicate incorrect predictions\n",
    "predictions_df['Incorrect'] = predictions_df['Actual'] != predictions_df['Predicted']\n",
    "\n",
    "# Filter out the incorrect predictions for analysis\n",
    "incorrect_predictions = predictions_df[predictions_df['Incorrect'] == True]\n"
   ]
  },
  {
   "cell_type": "code",
   "execution_count": 15,
   "id": "2dde7373-8c92-4e73-9d52-37b8427cf6d8",
   "metadata": {},
   "outputs": [
    {
     "name": "stdout",
     "output_type": "stream",
     "text": [
      "game_location\n",
      "0    4121\n",
      "1    4142\n",
      "2       3\n",
      "Name: Incorrect, dtype: int64\n",
      "          elo_diff      avg_pts\n",
      "count  8266.000000  8266.000000\n",
      "mean     -0.230168   101.569497\n",
      "std     128.482056     3.993314\n",
      "min    -441.033300    87.000000\n",
      "25%     -84.949825    98.849338\n",
      "50%      -0.491150   102.147924\n",
      "75%      84.102625   104.594650\n",
      "max     441.033300   109.444126\n"
     ]
    }
   ],
   "source": [
    "# Analyze distribution of errors across a categorical variable ( 'game_location')\n",
    "error_analysis = incorrect_predictions.merge(df, left_index=True, right_index=True)  # Assuming 'df' is your original DataFrame\n",
    "\n",
    "# Analyzing error counts by a categorical feature\n",
    "error_counts = error_analysis.groupby('game_location')['Incorrect'].count()\n",
    "print(error_counts)\n",
    "\n",
    "#summary statistics for numerical features for incorrect predictions\n",
    "print(error_analysis[['elo_diff', 'avg_pts']].describe())\n"
   ]
  },
  {
   "cell_type": "code",
   "execution_count": 16,
   "id": "98a17672-9fa8-459b-b7bc-9e78f2c223ce",
   "metadata": {},
   "outputs": [
    {
     "data": {
      "image/png": "[encoded data removed]",
      "text/plain": [
       "<Figure size 640x480 with 1 Axes>"
      ]
     },
     "metadata": {},
     "output_type": "display_data"
    },
    {
     "data": {
      "image/png": "[encoded data removed]",
      "text/plain": [
       "<Figure size 640x480 with 1 Axes>"
      ]
     },
     "metadata": {},
     "output_type": "display_data"
    }
   ],
   "source": [
    "#just trying something out here...\n",
    "\n",
    "import matplotlib.pyplot as plt\n",
    "import seaborn as sns\n",
    "\n",
    "# Visualizing the distribution of 'elo_diff' for incorrect predictions\n",
    "sns.histplot(data=error_analysis, x='elo_diff', bins=30, kde=True)\n",
    "plt.title('Distribution of Elo Difference for Incorrect Predictions')\n",
    "plt.xlabel('Elo Difference')\n",
    "plt.ylabel('Frequency')\n",
    "plt.show()\n",
    "\n",
    "# Example: Boxplot for 'avg_pts' to see if outliers influence errors\n",
    "sns.boxplot(data=error_analysis, x='game_location', y='avg_pts')\n",
    "plt.title('Average Points by Game Location for Incorrect Predictions')\n",
    "plt.xlabel('Game Location')\n",
    "plt.ylabel('Average Points')\n",
    "plt.show()\n"
   ]
  },
  {
   "cell_type": "code",
   "execution_count": 18,
   "id": "c51b08df-4cda-4ab3-bab9-c3f0080509fb",
   "metadata": {},
   "outputs": [
    {
     "name": "stdout",
     "output_type": "stream",
     "text": [
      "              precision    recall  f1-score   support\n",
      "\n",
      "           0       0.68      0.66      0.67     12632\n",
      "           1       0.67      0.68      0.68     12631\n",
      "\n",
      "    accuracy                           0.67     25263\n",
      "   macro avg       0.67      0.67      0.67     25263\n",
      "weighted avg       0.67      0.67      0.67     25263\n",
      "\n"
     ]
    },
    {
     "data": {
      "text/plain": [
       "<Axes: >"
      ]
     },
     "execution_count": 18,
     "metadata": {},
     "output_type": "execute_result"
    },
    {
     "data": {
      "image/png": "[encoded data removed]",
      "text/plain": [
       "<Figure size 640x480 with 2 Axes>"
      ]
     },
     "metadata": {},
     "output_type": "display_data"
    }
   ],
   "source": [
    "from sklearn.metrics import classification_report, confusion_matrix\n",
    "import seaborn as sns\n",
    "\n",
    "print(classification_report(y_test, y_pred))\n",
    "cm = confusion_matrix(y_test, y_pred)\n",
    "sns.heatmap(cm, annot=True, fmt=\"d\", cmap=\"Blues\")\n"
   ]
  },
  {
   "cell_type": "code",
   "execution_count": 19,
   "id": "d25ea74e-c420-4677-a806-33adfaa06743",
   "metadata": {},
   "outputs": [
    {
     "data": {
      "image/png": "[encoded data removed]",
      "text/plain": [
       "<Figure size 640x480 with 1 Axes>"
      ]
     },
     "metadata": {},
     "output_type": "display_data"
    }
   ],
   "source": [
    "xgb.plot_importance(best_model)\n",
    "plt.title(\"Feature Importance\")\n",
    "plt.show()\n"
   ]
  },
  {
   "cell_type": "code",
   "execution_count": null,
   "id": "18ef1a55-71a4-4101-bb75-79dc9a8cd4a6",
   "metadata": {},
   "outputs": [],
   "source": [
    "\n"
   ]
  },
  {
   "cell_type": "code",
   "execution_count": null,
   "id": "6f7fdf2b-190d-41b9-9a12-b8784b542163",
   "metadata": {},
   "outputs": [],
   "source": []
  }
 ],
 "metadata": {
  "kernelspec": {
   "display_name": "Capstone-env",
   "language": "python",
   "name": "capstone"
  },
  "language_info": {
   "codemirror_mode": {
    "name": "ipython",
    "version": 3
   },
   "file_extension": ".py",
   "mimetype": "text/x-python",
   "name": "python",
   "nbconvert_exporter": "python",
   "pygments_lexer": "ipython3",
   "version": "3.11.7"
  }
 },
 "nbformat": 4,
 "nbformat_minor": 5
}
